{
 "cells": [
  {
   "cell_type": "code",
   "execution_count": 1,
   "metadata": {},
   "outputs": [],
   "source": [
    "import pandas as pd\n",
    "import glob\n",
    "import numpy as np"
   ]
  },
  {
   "cell_type": "code",
   "execution_count": 2,
   "metadata": {},
   "outputs": [],
   "source": [
    "path =r'./SegLabelHard' # use your path\n",
    "allFiles = glob.glob(path + \"/*.csv\")\n",
    "frame = pd.DataFrame()\n",
    "list_ = []\n",
    "nFiles = len(allFiles)\n",
    "labels = np.zeros((nFiles,6))\n",
    "for j, file_ in enumerate(allFiles):\n",
    "    df = pd.read_csv(file_,index_col=None, header=0)\n",
    "    #df = df[['Emotion-Angry_/_Agressive','Emotion-Arousing_/_Awakening','Emotion-Bizarre_/_Weird','Emotion-Exciting_/_Thrilling','Emotion-Happy','Emotion-Sad']]\n",
    "    df = df[['Emotion-Angry_/_Agressive','Emotion-Exciting_/_Thrilling','Emotion-Happy','Emotion-Sad']]\n",
    "    nrow, ncol = df.shape\n",
    "    label_ = np.zeros(ncol)\n",
    "    for i in range(ncol):\n",
    "        if sum(df.iloc[:,i])/nrow  >= 0.5:       \n",
    "            labels[j, i] = 1.\n",
    "        else:\n",
    "            labels[j, i] = 0.\n",
    "  \n",
    "# ignoring 2 classes\n",
    "#labels[:,3] = 0."
   ]
  },
  {
   "cell_type": "code",
   "execution_count": 3,
   "metadata": {},
   "outputs": [],
   "source": [
    "df = pd.read_csv('./SegLabelHard/birthday_party-mr._clarinet.csv',index_col=None, header=0)\n",
    "df = df[['Emotion-Angry_/_Agressive','Emotion-Arousing_/_Awakening','Emotion-Bizarre_/_Weird','Emotion-Exciting_/_Thrilling','Emotion-Happy','Emotion-Sad']]\n",
    "fileNames = list(map(lambda x: x[15:-4], allFiles))\n",
    "completeLabels = pd.DataFrame(data = labels, index = fileNames, columns = df.columns)"
   ]
  },
  {
   "cell_type": "code",
   "execution_count": 7,
   "metadata": {},
   "outputs": [],
   "source": [
    "d_angry = dict()\n",
    "d_fear = dict()\n",
    "d_happy = dict()\n",
    "d_sad = dict()\n",
    "\n",
    "to_be_deleted = []\n",
    "for i in range(nFiles):\n",
    "    #if sum(labels[i,:]) > 0.:\n",
    "    d_angry[fileNames[i]] = np.array([labels[i,0]]) # angry\n",
    "    d_fear[fileNames[i]] = np.array([labels[i,1]]) # fear\n",
    "    d_happy[fileNames[i]] = np.array([labels[i,2]]) # happy\n",
    "    d_sad[fileNames[i]] = np.array([labels[i,3]]) # sad\n",
    "    #    to_be_deleted.append(fileNames[i])\n",
    "\n",
    "#fileNames = [e for e in fileNames if e not in to_be_deleted]\n"
   ]
  },
  {
   "cell_type": "code",
   "execution_count": 13,
   "metadata": {},
   "outputs": [],
   "source": [
    "ID = dict()\n",
    "fileNames = np.random.permutation(fileNames)\n",
    "fileNames = list(fileNames)\n",
    "ID['train'] = fileNames[:450]\n",
    "ID['test'] = fileNames[450:]\n",
    "np.save('ID',ID)\n",
    "np.save('labels_angry',d_angry)\n",
    "np.save('labels_fear',d_fear)\n",
    "np.save('labels_happy',d_happy)\n",
    "np.save('labels_sad',d_sad)\n",
    "\n"
   ]
  },
  {
   "cell_type": "code",
   "execution_count": 26,
   "metadata": {},
   "outputs": [
    {
     "name": "stdout",
     "output_type": "stream",
     "text": [
      "0.12 0.88\n",
      "0.458 0.542\n",
      "0.366 0.634\n",
      "0.066 0.9339999999999999\n"
     ]
    }
   ],
   "source": [
    "print(sum(labels[:,0])/len(labels[:,0]), (1 - sum(labels[:,0])/len(labels[:,0]))) # angry\n",
    "print(sum(labels[:,1])/len(labels[:,1]), (1 - sum(labels[:,1])/len(labels[:,1]))) # fear\n",
    "print(sum(labels[:,2])/len(labels[:,2]), (1 - sum(labels[:,2])/len(labels[:,2]))) # happy\n",
    "print(sum(labels[:,3])/len(labels[:,3]), (1 - sum(labels[:,3])/len(labels[:,3]))) # sad\n",
    "\n"
   ]
  },
  {
   "cell_type": "code",
   "execution_count": 28,
   "metadata": {},
   "outputs": [
    {
     "name": "stdout",
     "output_type": "stream",
     "text": [
      "7.333333333333333\n",
      "1.1834061135371179\n",
      "1.7322404371584699\n",
      "14.136363636363637\n"
     ]
    }
   ],
   "source": [
    "print (88/12)\n",
    "print(542/458)\n",
    "print(634/366)\n",
    "print(933/66)"
   ]
  },
  {
   "cell_type": "code",
   "execution_count": null,
   "metadata": {},
   "outputs": [],
   "source": []
  },
  {
   "cell_type": "code",
   "execution_count": null,
   "metadata": {},
   "outputs": [],
   "source": []
  },
  {
   "cell_type": "code",
   "execution_count": null,
   "metadata": {},
   "outputs": [],
   "source": []
  },
  {
   "cell_type": "code",
   "execution_count": null,
   "metadata": {},
   "outputs": [],
   "source": []
  }
 ],
 "metadata": {
  "kernelspec": {
   "display_name": "Python 3",
   "language": "python",
   "name": "python3"
  },
  "language_info": {
   "codemirror_mode": {
    "name": "ipython",
    "version": 3
   },
   "file_extension": ".py",
   "mimetype": "text/x-python",
   "name": "python",
   "nbconvert_exporter": "python",
   "pygments_lexer": "ipython3",
   "version": "3.6.5"
  }
 },
 "nbformat": 4,
 "nbformat_minor": 2
}
